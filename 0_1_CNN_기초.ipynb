{
  "nbformat": 4,
  "nbformat_minor": 0,
  "metadata": {
    "colab": {
      "provenance": [],
      "include_colab_link": true
    },
    "kernelspec": {
      "name": "python3",
      "display_name": "Python 3"
    },
    "language_info": {
      "name": "python"
    }
  },
  "cells": [
    {
      "cell_type": "markdown",
      "metadata": {
        "id": "view-in-github",
        "colab_type": "text"
      },
      "source": [
        "<a href=\"https://colab.research.google.com/github/Developer-Gilbert/Practice-project/blob/main/0_1_CNN_%EA%B8%B0%EC%B4%88.ipynb\" target=\"_parent\"><img src=\"https://colab.research.google.com/assets/colab-badge.svg\" alt=\"Open In Colab\"/></a>"
      ]
    },
    {
      "cell_type": "markdown",
      "source": [
        "# **1. CNN(Convolutional Neural Networks)**\n",
        "- 합성곱 인공 신경망\n",
        "- 전통적인 뉴럴 네트워크에 컨볼루셔널 레이어를 붙인 형태\n",
        "- 컨볼루셔널 레이어를 통해 입력 받은 이미지에 대한 특징(Feature)을 추출하게 되고, 추출한 특징을 기반으로 기존의 뉴럴 네트워크에 이용하여 분류\n",
        "![](https://i.imgur.com/yn9B3Et.jpg)"
      ],
      "metadata": {
        "id": "GbFCEIZXywxT"
      }
    },
    {
      "cell_type": "markdown",
      "source": [
        "### 1-1. CNN을 사용하는 이유\n",
        "- 이미지 분류할 때 DNN(Dept Neural Network)의 문제점\n",
        "  - 일반적인 DNN은 1차원 형태의 데이터를 사용 -> 2차원 이상의 데이터가 입력되는 경우는 flatten 시켜서 한줄로 데이터를 변환 후 넣음\n",
        "  - 이미지의 공간적/지역적 정보가 손실됨\n",
        "\n",
        "> DNN의 문제점을 해결하기 위해 이미지를 그대로(Raw Input) 받음으로 공간적/지역적 정보를 유지"
      ],
      "metadata": {
        "id": "AqYp9mwszyl5"
      }
    },
    {
      "cell_type": "markdown",
      "source": [
        "# **2. Convolution 연산**\n",
        "![](https://i.imgur.com/2MiTVss.png)\n",
        "- 컨볼루션 연산을 진행하면 출력 텐서의 크기가 작아짐.\n",
        "\n",
        "![](https://i.imgur.com/fUuvC2r.gif)\n",
        "\n",
        "- 패딩\n",
        "  - 입력값 주위로 0을 넣어서 입력 값의 크기를 인위적으로 키워 결과값이 작아지는 것을 방지\n",
        "\n",
        "![](https://i.imgur.com/AzbJCgg.gif)\n",
        "\n",
        "- 컬러 이미지에는 2D 컨볼루션 연산을 사용\n",
        "\n",
        "![](https://i.imgur.com/Ve8xWUh.gif)\n",
        "\n",
        "- 풀링\n",
        "  - 중요한 특징을 추출하고 차원을 축소하기 위해 풀링 연산을 사용\n",
        "  - MaxPool(MaxPool2D), AvgPool(AvgPool2D)\n",
        "\n",
        "- 스트라이드\n",
        "  - 필터를 적용하는 간격의 설정\n",
        "  - 필터를 적용해서 얻어낸 결과를 Feature map 또는 Activation map이라고 부름\n",
        "\n",
        "- 드롭아웃 (Dropout) 레이어\n",
        "  - 오버피팅을 막기 위해 사용하는 레이어\n",
        "  - 학습중일 때 랜덤하게 값을 발생하여 학습을 방해함으로 학습용 데이터에 결과가 치우치는 것을 방지함\n",
        "\n",
        "- FC Layer(Fully Connected Layer)\n",
        "  - 이미지를 분류 또는 설명하기 위해 예측하는 레이어"
      ],
      "metadata": {
        "id": "veFCCJWm0Hf6"
      }
    },
    {
      "cell_type": "markdown",
      "source": [
        "### 2-1. CNN 체험\n",
        "\n",
        "https://adamharley.com/nn_vis/"
      ],
      "metadata": {
        "id": "VdkhJBsw3Bl5"
      }
    },
    {
      "cell_type": "markdown",
      "source": [
        "### 2-2. CNN을 구성하는 레이어\n",
        "- Conv2D : 특징 추출\n",
        "- ReLu : 활성화 함수\n",
        "- MaxPool2D : 차원 축소\n",
        "- Conv2D : 특징 추출\n",
        "- ReLu : 활성화 함수\n",
        "- MaxPool2D : 차원 축소\n",
        "- ...\n",
        "- Flatten : 영상 분석이 끝났다면 다차원에서 1차원으로 변경\n",
        "- Linear : 선형 회귀\n",
        "- ReLu : 활성화 함수\n",
        "- ...\n",
        "- Sigmoid(or Softmax) : 출력"
      ],
      "metadata": {
        "id": "XYGxOLNk3Pkz"
      }
    },
    {
      "cell_type": "code",
      "source": [],
      "metadata": {
        "id": "J3c7p2k04xYL"
      },
      "execution_count": null,
      "outputs": []
    }
  ]
}